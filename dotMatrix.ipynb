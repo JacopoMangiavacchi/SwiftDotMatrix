{
  "nbformat": 4,
  "nbformat_minor": 0,
  "metadata": {
    "colab": {
      "name": "dotMatrix.ipynb",
      "version": "0.3.2",
      "provenance": [],
      "collapsed_sections": []
    },
    "kernelspec": {
      "name": "python3",
      "display_name": "Python 3"
    }
  },
  "cells": [
    {
      "cell_type": "code",
      "metadata": {
        "id": "t5Qdz8Kxo6po",
        "colab_type": "code",
        "colab": {}
      },
      "source": [
        "import numpy as np"
      ],
      "execution_count": 0,
      "outputs": []
    },
    {
      "cell_type": "code",
      "metadata": {
        "id": "T0gnwb4opK6C",
        "colab_type": "code",
        "colab": {
          "base_uri": "https://localhost:8080/",
          "height": 51
        },
        "outputId": "9adbfb78-4a63-47e3-91b5-f8758e1d43ef"
      },
      "source": [
        "a = np.array([[1, 2, 3], [4, 5, 6]])\n",
        "b = np.array([[1, 2], [3, 4], [5, 6]])\n",
        "c = np.dot(a, b)\n",
        "\n",
        "print(c)"
      ],
      "execution_count": 57,
      "outputs": [
        {
          "output_type": "stream",
          "text": [
            "[[22 28]\n",
            " [49 64]]\n"
          ],
          "name": "stdout"
        }
      ]
    },
    {
      "cell_type": "code",
      "metadata": {
        "id": "603IfF4-qYLb",
        "colab_type": "code",
        "colab": {
          "base_uri": "https://localhost:8080/",
          "height": 51
        },
        "outputId": "2f30f9a2-d1bc-4929-eb9b-d8603d4f6982"
      },
      "source": [
        "def createMatrix(row, col, value=None):\n",
        "  progressive = lambda r, c, col: (1 + c + (r*col))\n",
        "  return [[progressive(r, c, col) if value == None else value for c in range(col)] for r in range(row)]\n",
        "\n",
        "\n",
        "a = createMatrix(2, 3)\n",
        "b = createMatrix(3, 2)\n",
        "\n",
        "print(a)\n",
        "print(b)"
      ],
      "execution_count": 69,
      "outputs": [
        {
          "output_type": "stream",
          "text": [
            "[[1, 2, 3], [4, 5, 6]]\n",
            "[[1, 2], [3, 4], [5, 6]]\n"
          ],
          "name": "stdout"
        }
      ]
    },
    {
      "cell_type": "code",
      "metadata": {
        "id": "oKQsmkaisWws",
        "colab_type": "code",
        "colab": {
          "base_uri": "https://localhost:8080/",
          "height": 34
        },
        "outputId": "1604288f-5355-4a43-bbc3-afe58f8e90b8"
      },
      "source": [
        "def dotMatrix(a, b):\n",
        "  (ar, br) = (len(a), len(b))\n",
        "  if ar == 0 or br == 0:\n",
        "    raise Exception('Wrong Matrix size')\n",
        "  (ac, bc) = (len(a[0]), len(b[0]))\n",
        "  if ac == 0 or bc == 0 or ac != br:\n",
        "    raise Exception('Wrong Matrix size')\n",
        "\n",
        "  m = createMatrix(ar, bc, 0)\n",
        "  for r in range(ar):\n",
        "    for c in range(bc):\n",
        "      for i in range(ac):\n",
        "        m[r][c] += a[r][i] * b[i][c]\n",
        "  \n",
        "  return m\n",
        "  \n",
        "\n",
        "print(dotMatrix(a, b))"
      ],
      "execution_count": 83,
      "outputs": [
        {
          "output_type": "stream",
          "text": [
            "[[22, 28], [49, 64]]\n"
          ],
          "name": "stdout"
        }
      ]
    },
    {
      "cell_type": "code",
      "metadata": {
        "id": "N82t2dt-wD63",
        "colab_type": "code",
        "colab": {}
      },
      "source": [
        ""
      ],
      "execution_count": 0,
      "outputs": []
    }
  ]
}