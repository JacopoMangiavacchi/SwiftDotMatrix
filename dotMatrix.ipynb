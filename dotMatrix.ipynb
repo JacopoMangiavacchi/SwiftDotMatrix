{
  "nbformat": 4,
  "nbformat_minor": 0,
  "metadata": {
    "colab": {
      "name": "Untitled",
      "version": "0.3.2",
      "provenance": [],
      "collapsed_sections": []
    },
    "kernelspec": {
      "name": "python3",
      "display_name": "Python 3"
    }
  },
  "cells": [
    {
      "cell_type": "code",
      "metadata": {
        "id": "t5Qdz8Kxo6po",
        "colab_type": "code",
        "colab": {}
      },
      "source": [
        "import numpy as np"
      ],
      "execution_count": 0,
      "outputs": []
    },
    {
      "cell_type": "code",
      "metadata": {
        "id": "T0gnwb4opK6C",
        "colab_type": "code",
        "outputId": "f24ce4f6-4864-411a-c462-1dedd87495cb",
        "colab": {
          "base_uri": "https://localhost:8080/",
          "height": 51
        }
      },
      "source": [
        "a = np.array([[1, 2, 3], [4, 5, 6]])\n",
        "b = np.array([[1, 2], [3, 4], [5, 6]])\n",
        "c = np.dot(a, b)\n",
        "\n",
        "print(c)"
      ],
      "execution_count": 2,
      "outputs": [
        {
          "output_type": "stream",
          "text": [
            "[[22 28]\n",
            " [49 64]]\n"
          ],
          "name": "stdout"
        }
      ]
    },
    {
      "cell_type": "code",
      "metadata": {
        "id": "603IfF4-qYLb",
        "colab_type": "code",
        "outputId": "1f0a912e-9b55-4a7a-9d28-fbc3485ecc1c",
        "colab": {
          "base_uri": "https://localhost:8080/",
          "height": 51
        }
      },
      "source": [
        "def createMatrix(row, col, value=None):\n",
        "  progressive = lambda r, c, col: (1 + c + (r*col))\n",
        "  return [[progressive(r, c, col) if value == None else value for c in range(col)] for r in range(row)]\n",
        "\n",
        "\n",
        "a = createMatrix(2, 3)\n",
        "b = createMatrix(3, 2)\n",
        "\n",
        "print(a)\n",
        "print(b)"
      ],
      "execution_count": 3,
      "outputs": [
        {
          "output_type": "stream",
          "text": [
            "[[1, 2, 3], [4, 5, 6]]\n",
            "[[1, 2], [3, 4], [5, 6]]\n"
          ],
          "name": "stdout"
        }
      ]
    },
    {
      "cell_type": "code",
      "metadata": {
        "id": "oKQsmkaisWws",
        "colab_type": "code",
        "outputId": "2cc5d29e-1b5b-446c-c1b4-8c8e7a6a8ed6",
        "colab": {
          "base_uri": "https://localhost:8080/",
          "height": 34
        }
      },
      "source": [
        "def dotMatrix(a, b):\n",
        "  (ar, br) = (len(a), len(b))\n",
        "  if ar == 0 or br == 0:\n",
        "    raise Exception('Wrong Matrix size')\n",
        "  (ac, bc) = (len(a[0]), len(b[0]))\n",
        "  if ac == 0 or bc == 0 or ac != br:\n",
        "    raise Exception('Wrong Matrix size')\n",
        "\n",
        "  m = createMatrix(ar, bc, 0)\n",
        "  for r in range(ar):\n",
        "    for c in range(bc):\n",
        "      for i in range(ac):\n",
        "        m[r][c] += a[r][i] * b[i][c]\n",
        "  \n",
        "  return m\n",
        "  \n",
        "print(dotMatrix(a, b))"
      ],
      "execution_count": 4,
      "outputs": [
        {
          "output_type": "stream",
          "text": [
            "[[22, 28], [49, 64]]\n"
          ],
          "name": "stdout"
        }
      ]
    },
    {
      "cell_type": "code",
      "metadata": {
        "id": "1j50YTkjr6Pk",
        "colab_type": "code",
        "colab": {
          "base_uri": "https://localhost:8080/",
          "height": 34
        },
        "outputId": "7b392e9d-03aa-4227-d3dc-5553b7cb40c7"
      },
      "source": [
        "import multiprocessing as mp\n",
        "\n",
        "def iterative_func(t, ac, a, b):\n",
        "  tot = 0\n",
        "  for i in range(ac):\n",
        "    tot += a[t[0]][i] * b[i][t[1]]\n",
        "  return tot\n",
        "\n",
        "\n",
        "def parallelDotMatrix(a, b, pool_size=10):\n",
        "  (ar, br) = (len(a), len(b))\n",
        "  if ar == 0 or br == 0:\n",
        "    raise Exception('Wrong Matrix size')\n",
        "  (ac, bc) = (len(a[0]), len(b[0]))\n",
        "  if ac == 0 or bc == 0 or ac != br:\n",
        "    raise Exception('Wrong Matrix size')\n",
        "\n",
        "  rc = []\n",
        "  for r in range(ar):\n",
        "    for c in range(bc):\n",
        "      rc.append((r, c))\n",
        "\n",
        "  with mp.Pool(pool_size) as pool:\n",
        "    results = pool.starmap(iterative_func, [(t, ac, a, b) for t in rc])\n",
        "\n",
        "  m = createMatrix(ar, bc, 0)\n",
        "\n",
        "  for r in range(ar):\n",
        "    for c in range(bc):\n",
        "      m[r][c] = results[c+(r*ar)]\n",
        "  \n",
        "  return m\n",
        "  \n",
        "\n",
        "print(parallelDotMatrix(a, b))"
      ],
      "execution_count": 5,
      "outputs": [
        {
          "output_type": "stream",
          "text": [
            "[[22, 28], [49, 64]]\n"
          ],
          "name": "stdout"
        }
      ]
    }
  ]
}